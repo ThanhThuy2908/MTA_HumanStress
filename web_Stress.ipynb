{
 "cells": [
  {
   "cell_type": "code",
   "execution_count": 1,
   "id": "a5811dc3",
   "metadata": {},
   "outputs": [],
   "source": [
    "#ENCRYPT AT CLIENT SIDE"
   ]
  },
  {
   "cell_type": "code",
   "execution_count": 2,
   "id": "bf6888df",
   "metadata": {},
   "outputs": [],
   "source": [
    "import numpy as np\n",
    "import pandas as pd\n",
    "from wrapper import SEAL, t_list\n",
    "import ctypes"
   ]
  },
  {
   "cell_type": "code",
   "execution_count": 3,
   "id": "48c3c321",
   "metadata": {},
   "outputs": [],
   "source": [
    "def extended_Euclidean_algorithm(a, b):\n",
    "\tb0 = b\n",
    "\tx0, x1 = 0, 1\n",
    "\tif b == 1: return 1\n",
    "\twhile a > 1:\n",
    "\t\tq = a // b\n",
    "\t\ta, b = b, a%b\n",
    "\t\tx0, x1 = x1 - q * x0, x0\n",
    "\tif x1 < 0: x1 += b0\n",
    "\treturn x1\n",
    "\n",
    "def chinese_remainder_theorem(array):\n",
    "\tresult = 0\n",
    "\tfor t_index in range(len(array)):\n",
    "\t\tresult += array[t_index].item() * bezout_coefficients[t_index] * t_product_over_t[t_index]\n",
    "\treturn result % t_product\n",
    "\n",
    "def crt_inverse(tensor):\n",
    "\texamples_count = tensor.shape[0]\n",
    "\ttemp = np.empty(tensor.shape[:-1], dtype=object)\n",
    "\tfor i in range(examples_count):\n",
    "\t\tfor j in range(5):\n",
    "\t\t\ttemp[i, j] = chinese_remainder_theorem(tensor[i, j, :])\n",
    "\t\t\tif (temp[i, j]>negative_threshold):\n",
    "\t\t\t\ttemp[i, j] = temp[i, j] - t_product\n",
    "\treturn temp"
   ]
  },
  {
   "cell_type": "code",
   "execution_count": 4,
   "id": "e15f266d",
   "metadata": {},
   "outputs": [],
   "source": [
    "# CRT PARAMETERS\n",
    "# compute the producte of all t, and the threshold for negative numbers:\n",
    "#   t_product\n",
    "#   negative_threshold\n",
    "t_product = 1\n",
    "for t_index in range(len(t_list)):\n",
    "\tt_product = t_product * t_list[t_index]\n",
    "negative_threshold = t_product // 2\n",
    "# compute t_product // t and the Bezout coefficients, for all t: \n",
    "#   t_product_over_t\n",
    "#   bezout_coefficients\n",
    "t_product_over_t = []\n",
    "bezout_coefficients = []\n",
    "for t_index in range(len(t_list)):\n",
    "\tt_product_over_t.append(t_product // t_list[t_index])\n",
    "\ttemp = extended_Euclidean_algorithm(t_product_over_t[t_index], t_list[t_index])\n",
    "\tbezout_coefficients.append(temp)"
   ]
  },
  {
   "cell_type": "code",
   "execution_count": 5,
   "id": "8a725562",
   "metadata": {},
   "outputs": [],
   "source": [
    "class Client:\n",
    "    \n",
    "    def __init__(self, user_id):\n",
    "        self.user_id = user_id        \n",
    "        self.SEALobj = SEAL()        \n",
    "        self.t_list = self.SEALobj.t_list\n",
    "        self.t_size = len(self.SEALobj.t_list)\n",
    "        self.precision = 10\n",
    "        \n",
    "        \n",
    "        self.sample = None\n",
    "        self.encrypted_sample = None\n",
    "        self.encrypted_result = None\n",
    "        self.result = None\n",
    "        \n",
    "                        \n",
    "    def generate_keys(self):\n",
    "        self.lib = ctypes.cdll.LoadLibrary('./SEAL/libseal.so')\n",
    "        for i in range(5):\n",
    "            if (not (os.path.isfile(\"./keys/evaluation-\"+str(i))\n",
    "                    and os.path.isfile(\"./keys/public-\"+str(i))\n",
    "                    and os.path.isfile(\"./keys/secret-\"+str(i))\n",
    "                    )):\n",
    "                print(\"Key missing: generating new keys...\")\n",
    "                self.lib.generate_new_keys()\n",
    "                break\n",
    "                \n",
    "    \"\"\"\n",
    "    Raw sample data:\n",
    "    input_data = np.array(shape = (1, 30), dtype='f')\n",
    "    \"\"\"\n",
    "    def receive_sample(self, input_data):\n",
    "        self.sample = input_data\n",
    "    \n",
    "    def receive_encrypted_result(self, data):\n",
    "        self.encrypted_result = data\n",
    "        \n",
    "        \n",
    "    \"\"\"Encode: converting float numbers n to int((n * precision) % t_i)\n",
    "    Input: input_data type(np.float32), shape=(1,30)\n",
    "    Output: encoded_sample type(np.uint64), shape=(1,30,5)\n",
    "    \"\"\"\n",
    "    def encode_sample(self, input_data, precision=10):\n",
    "        encoded_input = np.empty(shape=(input_data.shape[0], input_data.shape[1], self.t_size), dtype=np.uint64)\n",
    "        for i in range(input_data.shape[0]): #1\n",
    "            for j in range(input_data.shape[1]): #30\n",
    "                value = round(input_data[i,j].item()*precision)\n",
    "                for t in range(self.t_size):\n",
    "                    encoded_input[i, j, t] = value % self.t_list[t]\n",
    "        return encoded_input\n",
    "    \n",
    "    \n",
    "\n",
    "    def encrypt_sample(self, encoded_sample):\n",
    "        return self.SEALobj.encrypt_tensor(encoded_sample)\n",
    "    \n",
    "    def decrypt_sample(self, encrypted_output):\n",
    "        return self.SEALobj.decrypt_tensor(encrypted_output,1)\n",
    "    \n",
    "        \n",
    "    def get_encrypted_sample(self):\n",
    "        return self.encrypted_sample\n",
    "    \n",
    "    def get_SEAL_obj(self):\n",
    "        return self.SEALobj"
   ]
  },
  {
   "cell_type": "code",
   "execution_count": 6,
   "id": "9070d93d",
   "metadata": {},
   "outputs": [],
   "source": [
    "client = Client(1)\n",
    "#sample = 3\n",
    "a = np.array([[93.8, 25.68, 91.84, 16.6, 89.84, 99.6, 1.84, 74.2]], dtype='f')\n",
    "client.receive_sample(a)"
   ]
  },
  {
   "cell_type": "code",
   "execution_count": 7,
   "id": "26ce4820",
   "metadata": {},
   "outputs": [
    {
     "data": {
      "text/plain": [
       "array([[93.8 , 25.68, 91.84, 16.6 , 89.84, 99.6 ,  1.84, 74.2 ]],\n",
       "      dtype=float32)"
      ]
     },
     "execution_count": 7,
     "metadata": {},
     "output_type": "execute_result"
    }
   ],
   "source": [
    "client.sample"
   ]
  },
  {
   "cell_type": "code",
   "execution_count": 8,
   "id": "81c04b0b",
   "metadata": {},
   "outputs": [],
   "source": [
    "encoded = client.encode_sample(client.sample)"
   ]
  },
  {
   "cell_type": "code",
   "execution_count": 9,
   "id": "24a52778",
   "metadata": {},
   "outputs": [],
   "source": [
    "encrypted =client.encrypt_sample(encoded)"
   ]
  },
  {
   "cell_type": "code",
   "execution_count": 10,
   "id": "13e59e30",
   "metadata": {},
   "outputs": [],
   "source": [
    "SealObj = client.get_SEAL_obj()"
   ]
  },
  {
   "cell_type": "markdown",
   "id": "a2eb4eab",
   "metadata": {},
   "source": [
    "# SERVER"
   ]
  },
  {
   "cell_type": "code",
   "execution_count": 11,
   "id": "b99852bc",
   "metadata": {},
   "outputs": [],
   "source": [
    "#COMPUTE AT SERVER SIDE"
   ]
  },
  {
   "cell_type": "code",
   "execution_count": 12,
   "id": "49700fc0",
   "metadata": {},
   "outputs": [],
   "source": [
    "import numpy as np\n",
    "from wrapper import SEAL"
   ]
  },
  {
   "cell_type": "code",
   "execution_count": 13,
   "id": "3b8f9606",
   "metadata": {},
   "outputs": [],
   "source": [
    "def to_object_dtype(tensoreuint):\n",
    "        shape = tensoreuint.shape\n",
    "        tensoreuint.shape = (tensoreuint.size,)\n",
    "        new = np.empty((tensoreuint.size,), dtype=object)\n",
    "        for i in range(tensoreuint.size):\n",
    "            new[i] = int(tensoreuint[i].item())\n",
    "        new.shape = shape\n",
    "        return new"
   ]
  },
  {
   "cell_type": "code",
   "execution_count": 14,
   "id": "3206b5ae",
   "metadata": {},
   "outputs": [],
   "source": [
    "class NeuralNetwork():\n",
    "    def __init__(self):      \n",
    "        self.dense1_kernel = np.load(\"./nn_data/dense1_kernel.npy\")\n",
    "        self.dense1_bias = np.load(\"./nn_data/dense1_bias.npy\")\n",
    "        self.dense2_kernel = np.load(\"./nn_data/dense2_kernel.npy\")\n",
    "        self.dense2_bias = np.load(\"./nn_data/dense2_bias.npy\")\n",
    "        self.dense3_kernel = np.load(\"./nn_data/dense3_kernel.npy\")\n",
    "        self.dense3_bias = np.load(\"./nn_data/dense3_bias.npy\")\n",
    "    \n",
    "    \n",
    "        self.SEALobj = None\n",
    "        \n",
    "    def set_SEAL_obj(self, SEALobj):\n",
    "        if(self.SEALobj == None):\n",
    "            self.SEALobj = SEALobj\n",
    "            self.q_list = self.SEALobj.q_list\n",
    "            self.k_list = self.SEALobj.k_list\n",
    "            self.n_parm = self.SEALobj.n_parm\n",
    "            self.enc_poly_size = self.SEALobj.enc_poly_size\n",
    "            self.q_size = len(self.q_list)\n",
    "            self.t_size = len(self.SEALobj.t_list)\n",
    "    \"\"\"input_data = np.array(shape=(1,30,5))\n",
    "    \"\"\"\n",
    "#     def get_encrypted_input(self, input_data):\n",
    "#         self.encrypted_input = input_data\n",
    "        \n",
    "    def predict(self, SEALobj, encrypted_input):\n",
    "        #If SEALobj == None then set SEALobj to Server\n",
    "        self.set_SEAL_obj(SEALobj)\n",
    "        \n",
    "        encrypted_output = np.empty((encrypted_input.shape[0],30,self.t_size), dtype=np.uint64)\n",
    "        poly_groups_count = encrypted_input.shape[0]//self.enc_poly_size\n",
    "        \n",
    "        #LEYER 1: Fully connected layer\n",
    "        encrypted_output = to_object_dtype(encrypted_input)\n",
    "        dense1_kernel = to_object_dtype(self.dense1_kernel)\n",
    "        \n",
    "        ## kernel\n",
    "        temp = np.empty((encrypted_output.shape[0],8,self.t_size), dtype=object)\n",
    "        for t_index in range(self.t_size):\n",
    "            temp[...,t_index] = encrypted_output[...,t_index].dot(dense1_kernel[...,t_index])\n",
    "        encrypted_output = temp\n",
    "        temp = None\n",
    "        ## % q\n",
    "        for axis1 in range(encrypted_output.shape[1]):\n",
    "            for axis2 in range(encrypted_output.shape[2]):\n",
    "                for poly_group_index in range(poly_groups_count):\n",
    "                    for size_index in range(2):\n",
    "                        for q_index in range(self.q_size):\n",
    "                            for n_index in range(self.n_parm+1):\n",
    "                                axis0 = poly_group_index*self.enc_poly_size + size_index*self.q_size*(self.n_parm+1) + q_index*(self.n_parm+1) + n_index\n",
    "                                temp = encrypted_output[axis0,axis1,axis2]\n",
    "                                temp = temp % self.q_list[q_index]\n",
    "                                encrypted_output[axis0,axis1,axis2] = temp\n",
    "        ## bias\n",
    "        for axis1 in range(encrypted_output.shape[1]):\n",
    "            for axis2 in range(encrypted_output.shape[2]):\n",
    "                for poly_group_index in range(poly_groups_count):\n",
    "                    for q_index in range(self.q_size):\n",
    "                        axis0 = poly_group_index*self.enc_poly_size + ((self.n_parm+1)*q_index)\n",
    "                        temp = encrypted_output[axis0,axis1,axis2]\n",
    "                        temp = temp + self.dense1_bias[axis1,axis2].item()*self.k_list[axis2][q_index]\n",
    "                        temp = temp % self.q_list[q_index]\n",
    "                        encrypted_output[axis0,axis1,axis2] = temp\n",
    "                        \n",
    "        \n",
    "        #LAYER2: square activation function\n",
    "        encrypted_output = self.SEALobj.square_tensor(encrypted_output)\n",
    "        \n",
    "        #LAYER3: fully connected layer\n",
    "        encrypted_output = to_object_dtype(encrypted_output)\n",
    "        dense2_kernel = to_object_dtype(self.dense2_kernel)\n",
    "        \n",
    "        ## kernel\n",
    "        temp = np.empty((encrypted_output.shape[0],6,self.t_size), dtype=object)\n",
    "        for t_index in range(self.t_size):\n",
    "            temp[...,t_index] = encrypted_output[...,t_index].dot(dense2_kernel[...,t_index])\n",
    "        encrypted_output = temp\n",
    "        temp = None\n",
    "        ## % q\n",
    "        for axis1 in range(encrypted_output.shape[1]):\n",
    "            for axis2 in range(encrypted_output.shape[2]):\n",
    "                for poly_group_index in range(poly_groups_count):\n",
    "                    for size_index in range(2):\n",
    "                        for q_index in range(self.q_size):\n",
    "                            for n_index in range(self.n_parm+1):\n",
    "                                axis0 = poly_group_index*self.enc_poly_size + size_index*self.q_size*(self.n_parm+1) + q_index*(self.n_parm+1) + n_index\n",
    "                                temp = encrypted_output[axis0,axis1,axis2]\n",
    "                                temp = temp % self.q_list[q_index]\n",
    "                                encrypted_output[axis0,axis1,axis2] = temp\n",
    "        ## bias\n",
    "        for axis1 in range(encrypted_output.shape[1]):\n",
    "            for axis2 in range(encrypted_output.shape[2]):\n",
    "                for poly_group_index in range(poly_groups_count):\n",
    "                    for q_index in range(self.q_size):\n",
    "                        axis0 = poly_group_index*self.enc_poly_size + ((self.n_parm+1)*q_index)\n",
    "                        temp = encrypted_output[axis0,axis1,axis2]\n",
    "                        temp = temp + self.dense2_bias[axis1,axis2].item()*self.k_list[axis2][q_index]\n",
    "                        temp = temp % self.q_list[q_index]\n",
    "                        encrypted_output[axis0,axis1,axis2] = temp\n",
    "                        \n",
    "        \n",
    "        #LAYER4: square activation function\n",
    "        encrypted_output = self.SEALobj.square_tensor(encrypted_output)\n",
    "\n",
    "        #LAYER5: fully connected layer\n",
    "        encrypted_output = to_object_dtype(encrypted_output)\n",
    "        dense3_kernel = to_object_dtype(self.dense3_kernel)\n",
    "        \n",
    "        ## kernel\n",
    "        temp = np.empty((encrypted_output.shape[0],5,self.t_size), dtype=object)\n",
    "        for t_index in range(self.t_size):\n",
    "            temp[...,t_index] = encrypted_output[...,t_index].dot(dense3_kernel[...,t_index])\n",
    "        encrypted_output = temp\n",
    "        temp = None\n",
    "        ## % q\n",
    "        for axis1 in range(encrypted_output.shape[1]):\n",
    "            for axis2 in range(encrypted_output.shape[2]):\n",
    "                for poly_group_index in range(poly_groups_count):\n",
    "                    for size_index in range(2):\n",
    "                        for q_index in range(self.q_size):\n",
    "                            for n_index in range(self.n_parm+1):\n",
    "                                axis0 = poly_group_index*self.enc_poly_size + size_index*self.q_size*(self.n_parm+1) + q_index*(self.n_parm+1) + n_index\n",
    "                                temp = encrypted_output[axis0,axis1,axis2]\n",
    "                                temp = temp % self.q_list[q_index]\n",
    "                                encrypted_output[axis0,axis1,axis2] = temp\n",
    "        ## bias\n",
    "        for axis1 in range(encrypted_output.shape[1]):\n",
    "            for axis2 in range(encrypted_output.shape[2]):\n",
    "                for poly_group_index in range(poly_groups_count):\n",
    "                    for q_index in range(self.q_size):\n",
    "                        axis0 = poly_group_index*self.enc_poly_size + ((self.n_parm+1)*q_index)\n",
    "                        temp = encrypted_output[axis0,axis1,axis2]\n",
    "                        temp = temp + self.dense3_bias[axis1,axis2].item()*self.k_list[axis2][q_index]\n",
    "                        temp = temp % self.q_list[q_index]\n",
    "                        encrypted_output[axis0,axis1,axis2] = temp\n",
    "                        \n",
    "        return encrypted_output                \n",
    "        "
   ]
  },
  {
   "cell_type": "code",
   "execution_count": 15,
   "id": "43710c12",
   "metadata": {},
   "outputs": [],
   "source": [
    "nn = NeuralNetwork()"
   ]
  },
  {
   "cell_type": "code",
   "execution_count": 16,
   "id": "c2a12bf2",
   "metadata": {},
   "outputs": [],
   "source": [
    "output = nn.predict(SealObj, encrypted)"
   ]
  },
  {
   "cell_type": "markdown",
   "id": "b9ec51e3",
   "metadata": {},
   "source": [
    "# CLIENT"
   ]
  },
  {
   "cell_type": "code",
   "execution_count": 17,
   "id": "3a1d42e6",
   "metadata": {},
   "outputs": [],
   "source": [
    "#DECRYPT AT CLIENT SIDE"
   ]
  },
  {
   "cell_type": "code",
   "execution_count": 18,
   "id": "d633bc11",
   "metadata": {},
   "outputs": [],
   "source": [
    "decrypted = client.decrypt_sample(output)"
   ]
  },
  {
   "cell_type": "code",
   "execution_count": 19,
   "id": "6a418407",
   "metadata": {},
   "outputs": [],
   "source": [
    "predict = crt_inverse(decrypted)"
   ]
  },
  {
   "cell_type": "code",
   "execution_count": 20,
   "id": "4eb8535e",
   "metadata": {},
   "outputs": [
    {
     "data": {
      "text/plain": [
       "array([2])"
      ]
     },
     "execution_count": 20,
     "metadata": {},
     "output_type": "execute_result"
    }
   ],
   "source": [
    "result = np.argmax(predict, axis=1)\n",
    "result"
   ]
  },
  {
   "cell_type": "code",
   "execution_count": null,
   "id": "69a09cb9",
   "metadata": {},
   "outputs": [],
   "source": []
  }
 ],
 "metadata": {
  "kernelspec": {
   "display_name": "Python 3 (ipykernel)",
   "language": "python",
   "name": "python3"
  },
  "language_info": {
   "codemirror_mode": {
    "name": "ipython",
    "version": 3
   },
   "file_extension": ".py",
   "mimetype": "text/x-python",
   "name": "python",
   "nbconvert_exporter": "python",
   "pygments_lexer": "ipython3",
   "version": "3.8.10"
  }
 },
 "nbformat": 4,
 "nbformat_minor": 5
}
