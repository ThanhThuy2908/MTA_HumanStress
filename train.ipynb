{
 "cells": [
  {
   "cell_type": "code",
   "execution_count": 1,
   "id": "9c43992f",
   "metadata": {},
   "outputs": [],
   "source": [
    "# https://www.kaggle.com/shivanielakurthy/human-stress-detection-100-accuracy"
   ]
  },
  {
   "cell_type": "code",
   "execution_count": 2,
   "id": "d0458b82",
   "metadata": {},
   "outputs": [
    {
     "name": "stderr",
     "output_type": "stream",
     "text": [
      "2022-03-11 14:24:45.059390: W tensorflow/stream_executor/platform/default/dso_loader.cc:64] Could not load dynamic library 'libcudart.so.11.0'; dlerror: libcudart.so.11.0: cannot open shared object file: No such file or directory\n",
      "2022-03-11 14:24:45.059412: I tensorflow/stream_executor/cuda/cudart_stub.cc:29] Ignore above cudart dlerror if you do not have a GPU set up on your machine.\n"
     ]
    },
    {
     "name": "stdout",
     "output_type": "stream",
     "text": [
      "WARNING:tensorflow:From /home/thuy/.local/lib/python3.8/site-packages/tensorflow/python/compat/v2_compat.py:111: disable_resource_variables (from tensorflow.python.ops.variable_scope) is deprecated and will be removed in a future version.\n",
      "Instructions for updating:\n",
      "non-resource variables are not supported in the long term\n"
     ]
    }
   ],
   "source": [
    "import pandas as pd\n",
    "import numpy as np\n",
    "from numpy import log, dot, e, ndim\n",
    "from numpy.random import rand\n",
    "import matplotlib.pyplot as plt\n",
    "from statistics import mean\n",
    "from sklearn.metrics import confusion_matrix\n",
    "#normalizing dataframe\n",
    "from sklearn.preprocessing import MinMaxScaler\n",
    "from sklearn.model_selection import train_test_split\n",
    "# import tensorflow as tf\n",
    "import tensorflow.compat.v1 as tf\n",
    "tf.disable_v2_behavior()\n",
    "from sklearn import metrics\n",
    "\n",
    "from tensorflow.keras.utils import to_categorical\n",
    "\n",
    "\n",
    "from wrapper import t_list\n"
   ]
  },
  {
   "cell_type": "code",
   "execution_count": 3,
   "id": "180e7148",
   "metadata": {},
   "outputs": [
    {
     "data": {
      "text/html": [
       "<div>\n",
       "<style scoped>\n",
       "    .dataframe tbody tr th:only-of-type {\n",
       "        vertical-align: middle;\n",
       "    }\n",
       "\n",
       "    .dataframe tbody tr th {\n",
       "        vertical-align: top;\n",
       "    }\n",
       "\n",
       "    .dataframe thead th {\n",
       "        text-align: right;\n",
       "    }\n",
       "</style>\n",
       "<table border=\"1\" class=\"dataframe\">\n",
       "  <thead>\n",
       "    <tr style=\"text-align: right;\">\n",
       "      <th></th>\n",
       "      <th>sr</th>\n",
       "      <th>rr</th>\n",
       "      <th>t</th>\n",
       "      <th>lm</th>\n",
       "      <th>bo</th>\n",
       "      <th>rem</th>\n",
       "      <th>sr.1</th>\n",
       "      <th>hr</th>\n",
       "      <th>sl</th>\n",
       "    </tr>\n",
       "  </thead>\n",
       "  <tbody>\n",
       "    <tr>\n",
       "      <th>0</th>\n",
       "      <td>93.80</td>\n",
       "      <td>25.680</td>\n",
       "      <td>91.840</td>\n",
       "      <td>16.600</td>\n",
       "      <td>89.840</td>\n",
       "      <td>99.60</td>\n",
       "      <td>1.840</td>\n",
       "      <td>74.20</td>\n",
       "      <td>3</td>\n",
       "    </tr>\n",
       "    <tr>\n",
       "      <th>1</th>\n",
       "      <td>91.64</td>\n",
       "      <td>25.104</td>\n",
       "      <td>91.552</td>\n",
       "      <td>15.880</td>\n",
       "      <td>89.552</td>\n",
       "      <td>98.88</td>\n",
       "      <td>1.552</td>\n",
       "      <td>72.76</td>\n",
       "      <td>3</td>\n",
       "    </tr>\n",
       "    <tr>\n",
       "      <th>2</th>\n",
       "      <td>60.00</td>\n",
       "      <td>20.000</td>\n",
       "      <td>96.000</td>\n",
       "      <td>10.000</td>\n",
       "      <td>95.000</td>\n",
       "      <td>85.00</td>\n",
       "      <td>7.000</td>\n",
       "      <td>60.00</td>\n",
       "      <td>1</td>\n",
       "    </tr>\n",
       "    <tr>\n",
       "      <th>3</th>\n",
       "      <td>85.76</td>\n",
       "      <td>23.536</td>\n",
       "      <td>90.768</td>\n",
       "      <td>13.920</td>\n",
       "      <td>88.768</td>\n",
       "      <td>96.92</td>\n",
       "      <td>0.768</td>\n",
       "      <td>68.84</td>\n",
       "      <td>3</td>\n",
       "    </tr>\n",
       "    <tr>\n",
       "      <th>4</th>\n",
       "      <td>48.12</td>\n",
       "      <td>17.248</td>\n",
       "      <td>97.872</td>\n",
       "      <td>6.496</td>\n",
       "      <td>96.248</td>\n",
       "      <td>72.48</td>\n",
       "      <td>8.248</td>\n",
       "      <td>53.12</td>\n",
       "      <td>0</td>\n",
       "    </tr>\n",
       "  </tbody>\n",
       "</table>\n",
       "</div>"
      ],
      "text/plain": [
       "      sr      rr       t      lm      bo    rem   sr.1     hr  sl\n",
       "0  93.80  25.680  91.840  16.600  89.840  99.60  1.840  74.20   3\n",
       "1  91.64  25.104  91.552  15.880  89.552  98.88  1.552  72.76   3\n",
       "2  60.00  20.000  96.000  10.000  95.000  85.00  7.000  60.00   1\n",
       "3  85.76  23.536  90.768  13.920  88.768  96.92  0.768  68.84   3\n",
       "4  48.12  17.248  97.872   6.496  96.248  72.48  8.248  53.12   0"
      ]
     },
     "execution_count": 3,
     "metadata": {},
     "output_type": "execute_result"
    }
   ],
   "source": [
    "data = pd.DataFrame()\n",
    "data= pd.read_csv('./SaYoPillow.csv')\n",
    "data.head()"
   ]
  },
  {
   "cell_type": "code",
   "execution_count": 4,
   "id": "4f18cf60",
   "metadata": {},
   "outputs": [
    {
     "data": {
      "text/html": [
       "<div>\n",
       "<style scoped>\n",
       "    .dataframe tbody tr th:only-of-type {\n",
       "        vertical-align: middle;\n",
       "    }\n",
       "\n",
       "    .dataframe tbody tr th {\n",
       "        vertical-align: top;\n",
       "    }\n",
       "\n",
       "    .dataframe thead th {\n",
       "        text-align: right;\n",
       "    }\n",
       "</style>\n",
       "<table border=\"1\" class=\"dataframe\">\n",
       "  <thead>\n",
       "    <tr style=\"text-align: right;\">\n",
       "      <th></th>\n",
       "      <th>snoring_rate</th>\n",
       "      <th>respiration_rate</th>\n",
       "      <th>body_temperature</th>\n",
       "      <th>limb_movement</th>\n",
       "      <th>blood_oxygen</th>\n",
       "      <th>eye_movement</th>\n",
       "      <th>sleeping_hours</th>\n",
       "      <th>heart_rate</th>\n",
       "      <th>stress_level</th>\n",
       "    </tr>\n",
       "  </thead>\n",
       "  <tbody>\n",
       "    <tr>\n",
       "      <th>0</th>\n",
       "      <td>93.80</td>\n",
       "      <td>25.680</td>\n",
       "      <td>91.840</td>\n",
       "      <td>16.600</td>\n",
       "      <td>89.840</td>\n",
       "      <td>99.60</td>\n",
       "      <td>1.840</td>\n",
       "      <td>74.20</td>\n",
       "      <td>3</td>\n",
       "    </tr>\n",
       "    <tr>\n",
       "      <th>1</th>\n",
       "      <td>91.64</td>\n",
       "      <td>25.104</td>\n",
       "      <td>91.552</td>\n",
       "      <td>15.880</td>\n",
       "      <td>89.552</td>\n",
       "      <td>98.88</td>\n",
       "      <td>1.552</td>\n",
       "      <td>72.76</td>\n",
       "      <td>3</td>\n",
       "    </tr>\n",
       "    <tr>\n",
       "      <th>2</th>\n",
       "      <td>60.00</td>\n",
       "      <td>20.000</td>\n",
       "      <td>96.000</td>\n",
       "      <td>10.000</td>\n",
       "      <td>95.000</td>\n",
       "      <td>85.00</td>\n",
       "      <td>7.000</td>\n",
       "      <td>60.00</td>\n",
       "      <td>1</td>\n",
       "    </tr>\n",
       "    <tr>\n",
       "      <th>3</th>\n",
       "      <td>85.76</td>\n",
       "      <td>23.536</td>\n",
       "      <td>90.768</td>\n",
       "      <td>13.920</td>\n",
       "      <td>88.768</td>\n",
       "      <td>96.92</td>\n",
       "      <td>0.768</td>\n",
       "      <td>68.84</td>\n",
       "      <td>3</td>\n",
       "    </tr>\n",
       "    <tr>\n",
       "      <th>4</th>\n",
       "      <td>48.12</td>\n",
       "      <td>17.248</td>\n",
       "      <td>97.872</td>\n",
       "      <td>6.496</td>\n",
       "      <td>96.248</td>\n",
       "      <td>72.48</td>\n",
       "      <td>8.248</td>\n",
       "      <td>53.12</td>\n",
       "      <td>0</td>\n",
       "    </tr>\n",
       "  </tbody>\n",
       "</table>\n",
       "</div>"
      ],
      "text/plain": [
       "   snoring_rate  respiration_rate  body_temperature  limb_movement  \\\n",
       "0         93.80            25.680            91.840         16.600   \n",
       "1         91.64            25.104            91.552         15.880   \n",
       "2         60.00            20.000            96.000         10.000   \n",
       "3         85.76            23.536            90.768         13.920   \n",
       "4         48.12            17.248            97.872          6.496   \n",
       "\n",
       "   blood_oxygen  eye_movement  sleeping_hours  heart_rate  stress_level  \n",
       "0        89.840         99.60           1.840       74.20             3  \n",
       "1        89.552         98.88           1.552       72.76             3  \n",
       "2        95.000         85.00           7.000       60.00             1  \n",
       "3        88.768         96.92           0.768       68.84             3  \n",
       "4        96.248         72.48           8.248       53.12             0  "
      ]
     },
     "execution_count": 4,
     "metadata": {},
     "output_type": "execute_result"
    }
   ],
   "source": [
    "data.columns=['snoring_rate', 'respiration_rate', 'body_temperature', 'limb_movement', 'blood_oxygen', \\\n",
    "             'eye_movement', 'sleeping_hours', 'heart_rate', 'stress_level']\n",
    "data.head()"
   ]
  },
  {
   "cell_type": "code",
   "execution_count": 5,
   "id": "d657afe9",
   "metadata": {},
   "outputs": [],
   "source": [
    "X = data.iloc[:, :8]\n",
    "y = data['stress_level']"
   ]
  },
  {
   "cell_type": "code",
   "execution_count": 6,
   "id": "a0943ee3",
   "metadata": {},
   "outputs": [],
   "source": [
    "scalerX = MinMaxScaler()\n",
    "scalerX.fit(X)\n",
    "X = scalerX.transform(X)\n",
    "y = y.to_numpy()"
   ]
  },
  {
   "cell_type": "code",
   "execution_count": 7,
   "id": "81043a81",
   "metadata": {},
   "outputs": [
    {
     "data": {
      "text/plain": [
       "((472, 8), (158, 8), (472,), (158,))"
      ]
     },
     "execution_count": 7,
     "metadata": {},
     "output_type": "execute_result"
    }
   ],
   "source": [
    "X_train, X_test, y_train, y_test=train_test_split(X, y, test_size=0.25, random_state=8)\n",
    "X_train.shape, X_test.shape, y_train.shape, y_test.shape"
   ]
  },
  {
   "cell_type": "code",
   "execution_count": 8,
   "id": "9d296298",
   "metadata": {},
   "outputs": [
    {
     "data": {
      "text/plain": [
       "array([[0, 0, 0, 1, 0],\n",
       "       [1, 0, 0, 0, 0],\n",
       "       [0, 1, 0, 0, 0],\n",
       "       [0, 0, 0, 1, 0],\n",
       "       [0, 0, 0, 0, 1]], dtype=int8)"
      ]
     },
     "execution_count": 8,
     "metadata": {},
     "output_type": "execute_result"
    }
   ],
   "source": [
    "num_classes=5\n",
    "y_train=to_categorical(y_train, num_classes, dtype=np.int8)\n",
    "y_test=to_categorical(y_test, num_classes, dtype=np.int8)\n",
    "y_train[:5]"
   ]
  },
  {
   "cell_type": "code",
   "execution_count": 9,
   "id": "42ece7da",
   "metadata": {},
   "outputs": [
    {
     "data": {
      "text/plain": [
       "array([0.68654545, 0.48114286, 0.38342857, 0.59466667, 0.42453333,\n",
       "       0.79822222, 0.04088889, 0.48114286])"
      ]
     },
     "execution_count": 9,
     "metadata": {},
     "output_type": "execute_result"
    }
   ],
   "source": [
    "X_train[0]"
   ]
  },
  {
   "cell_type": "code",
   "execution_count": 10,
   "id": "57ad7a9e",
   "metadata": {},
   "outputs": [],
   "source": [
    "# shape None == allow dynamic number of rows; X_train.shape[1] == number of features\n",
    "X = tf.placeholder(dtype=tf.float32, shape=(None, X_train.shape[1]), name='inputs')\n",
    "y = tf.placeholder(dtype=tf.float32, shape=(None, 5), name='targets')"
   ]
  },
  {
   "cell_type": "code",
   "execution_count": 11,
   "id": "7c8abbbf",
   "metadata": {},
   "outputs": [
    {
     "name": "stderr",
     "output_type": "stream",
     "text": [
      "/tmp/ipykernel_11093/418592932.py:3: UserWarning: `tf.layers.dense` is deprecated and will be removed in a future version. Please use `tf.keras.layers.Dense` instead.\n",
      "  h1 = tf.layers.dense(X, 8, name='dense1')\n",
      "/home/thuy/.local/lib/python3.8/site-packages/keras/legacy_tf_layers/core.py:255: UserWarning: `layer.apply` is deprecated and will be removed in a future version. Please use `layer.__call__` method instead.\n",
      "  return layer.apply(inputs)\n",
      "/tmp/ipykernel_11093/418592932.py:7: UserWarning: `tf.layers.dense` is deprecated and will be removed in a future version. Please use `tf.keras.layers.Dense` instead.\n",
      "  h2 = tf.layers.dense(h1, 6, name='dense2')\n",
      "/tmp/ipykernel_11093/418592932.py:10: UserWarning: `tf.layers.dense` is deprecated and will be removed in a future version. Please use `tf.keras.layers.Dense` instead.\n",
      "  model1 = tf.layers.dense(h2, 5, name='dense3')\n"
     ]
    }
   ],
   "source": [
    "# First hidden layer\n",
    "# X == features coming in, 30 == number of features == neurons\n",
    "h1 = tf.layers.dense(X, 8, name='dense1')\n",
    "h1 = h1 * h1\n",
    "# Second hidden layer\n",
    "# h1 == features coming in, 26 == number of neurons == arbitrary\n",
    "h2 = tf.layers.dense(h1, 6, name='dense2')\n",
    "h2 = h2 * h2\n",
    "# Last/output layar always has 1 neuron for binary classification problems\n",
    "model1 = tf.layers.dense(h2, 5, name='dense3')\n",
    "\n",
    "model = tf.sigmoid(model1, name='sigmoid')\n",
    "# model = approx_sigmoid(model)"
   ]
  },
  {
   "cell_type": "code",
   "execution_count": 12,
   "id": "e5e12265",
   "metadata": {},
   "outputs": [],
   "source": [
    "loss = tf.losses.log_loss(y, model)\n",
    "\n",
    "# Define training operation\n",
    "training_op = tf.train.AdamOptimizer(.01).minimize(loss)"
   ]
  },
  {
   "cell_type": "code",
   "execution_count": 13,
   "id": "20c50bee",
   "metadata": {},
   "outputs": [
    {
     "name": "stderr",
     "output_type": "stream",
     "text": [
      "2022-03-11 14:24:46.560574: W tensorflow/stream_executor/platform/default/dso_loader.cc:64] Could not load dynamic library 'libcuda.so.1'; dlerror: libcuda.so.1: cannot open shared object file: No such file or directory\n",
      "2022-03-11 14:24:46.560595: W tensorflow/stream_executor/cuda/cuda_driver.cc:269] failed call to cuInit: UNKNOWN ERROR (303)\n",
      "2022-03-11 14:24:46.560611: I tensorflow/stream_executor/cuda/cuda_diagnostics.cc:156] kernel driver does not appear to be running on this host (thuy-ThinkPad-T480): /proc/driver/nvidia/version does not exist\n",
      "2022-03-11 14:24:46.560761: I tensorflow/core/platform/cpu_feature_guard.cc:151] This TensorFlow binary is optimized with oneAPI Deep Neural Network Library (oneDNN) to use the following CPU instructions in performance-critical operations:  AVX2 FMA\n",
      "To enable them in other operations, rebuild TensorFlow with the appropriate compiler flags.\n"
     ]
    },
    {
     "name": "stdout",
     "output_type": "stream",
     "text": [
      "epoch: 0  | training loss: 0.6818228  | test loss: 0.6780427\n",
      "epoch: 100  | training loss: 7.1913266e-05  | test loss: 7.455492e-05\n",
      "epoch: 200  | training loss: 3.0347866e-05  | test loss: 3.0256162e-05\n",
      "epoch: 300  | training loss: 1.8118253e-05  | test loss: 1.813074e-05\n",
      "epoch: 400  | training loss: 1.1902202e-05  | test loss: 1.1952724e-05\n",
      "epoch: 500  | training loss: 8.352497e-06  | test loss: 8.415217e-06\n",
      "epoch: 600  | training loss: 6.1478568e-06  | test loss: 6.2118884e-06\n",
      "epoch: 700  | training loss: 4.689787e-06  | test loss: 4.751274e-06\n",
      "epoch: 800  | training loss: 3.6770134e-06  | test loss: 3.7333457e-06\n",
      "epoch: 900  | training loss: 2.9452426e-06  | test loss: 2.9970438e-06\n",
      "Accuracy: 1.0\n",
      "Accuracy without sigmoid:  1.0\n"
     ]
    }
   ],
   "source": [
    "# Initialize\n",
    "init = tf.global_variables_initializer()\n",
    "saver = tf.train.Saver()\n",
    "\n",
    "with tf.Session() as sess:\n",
    "    init.run()\n",
    "    # Train model with 1000 epochs\n",
    "    # saver.restore(sess, '/content/drive/MyDrive/Colab Notebooks/result/nn_data/net-1000')\n",
    "    for epoch in range(1000):\n",
    "        sess.run(training_op, feed_dict={X: X_train, y: y_train})\n",
    "        if (epoch % 100 == 0):\n",
    "            training_loss = sess.run(loss, feed_dict={X: X_train, y: y_train})\n",
    "            test_loss = sess.run(loss, feed_dict={X: X_test, y: y_test})\n",
    "            print('epoch:',epoch,' | training loss:', training_loss, ' | test loss:', test_loss)\n",
    "    saved_path = saver.save(sess, './nn_data/net', global_step=1000)\n",
    "\n",
    "    # # Use model to classify test data\n",
    "    # classifications_on_test_data = sess.run(model, feed_dict={X: X_test})\n",
    "    \n",
    "    # # Check model accuracy\n",
    "    # classes = (classifications_on_test_data > .5).astype(int)\n",
    "    \n",
    "    # print('\\nAccuracy Score:',metrics.accuracy_score(y_test, classes))\n",
    "    \n",
    "    predictions = tf.equal(tf.argmax(model, 1), tf.argmax(y, 1))\n",
    "    accuracy = tf.reduce_mean(tf.cast(predictions, \"float\"))\n",
    "    print(\"Accuracy:\", accuracy.eval({X: X_test, y: y_test}))\n",
    "    no_sig_predictions = tf.equal(tf.argmax(model1, 1), tf.argmax(y, 1))\n",
    "    no_sig_accuracy = tf.reduce_mean(tf.cast(no_sig_predictions, \"float\"))\n",
    "    print('Accuracy without sigmoid: ', no_sig_accuracy.eval({X: X_test, y: y_test}))"
   ]
  },
  {
   "cell_type": "markdown",
   "id": "457ef5bb",
   "metadata": {},
   "source": [
    "# PRE_ENCODE"
   ]
  },
  {
   "cell_type": "code",
   "execution_count": 14,
   "id": "e56d3b0e",
   "metadata": {},
   "outputs": [
    {
     "name": "stdout",
     "output_type": "stream",
     "text": [
      "INFO:tensorflow:Restoring parameters from ./nn_data/net-1000\n"
     ]
    }
   ],
   "source": [
    "# Restore session\n",
    "with tf.Session() as sess:\n",
    "\tsaver.restore(sess, './nn_data/net-1000')\n",
    "\twith tf.variable_scope('dense1', reuse=True):\n",
    "\t\tdense1_kernel_ = sess.run(tf.get_variable('kernel'))\n",
    "\t\tdense1_bias_ = sess.run(tf.get_variable('bias'))\n",
    "\twith tf.variable_scope('dense2', reuse=True):\n",
    "\t\tdense2_kernel_ = sess.run(tf.get_variable('kernel'))\n",
    "\t\tdense2_bias_ = sess.run(tf.get_variable('bias'))\n",
    "\twith tf.variable_scope('dense3', reuse=True):\n",
    "\t\tdense3_kernel_ = sess.run(tf.get_variable('kernel'))\n",
    "\t\tdense3_bias_ = sess.run(tf.get_variable('bias'))\n",
    "\tencoded_input_ = X.eval({X: X_test})\n"
   ]
  },
  {
   "cell_type": "code",
   "execution_count": 15,
   "id": "f8d9801c",
   "metadata": {},
   "outputs": [
    {
     "name": "stdout",
     "output_type": "stream",
     "text": [
      "(8, 8)\n",
      "(8,)\n",
      "(8, 6)\n",
      "(6,)\n",
      "(6, 5)\n",
      "(5,)\n",
      "(158, 8)\n"
     ]
    }
   ],
   "source": [
    "print(dense1_kernel_.shape)\n",
    "print(dense1_bias_.shape)\n",
    "print(dense2_kernel_.shape)\n",
    "print(dense2_bias_.shape)\n",
    "print(dense3_kernel_.shape)\n",
    "print(dense3_bias_.shape)\n",
    "print(encoded_input_.shape)"
   ]
  },
  {
   "cell_type": "code",
   "execution_count": 16,
   "id": "fad03520",
   "metadata": {},
   "outputs": [],
   "source": [
    "# Declare the outputs\n",
    "input_size = encoded_input_.shape[0]\n",
    "encoded_input = np.empty(shape=(input_size,encoded_input_.shape[1],5), dtype=np.uint64)\n",
    "dense1_kernel = np.empty(shape=(8,8,5), dtype=np.uint64)\n",
    "dense1_bias = np.empty(shape=(8,5), dtype=np.uint64)\n",
    "dense2_kernel = np.empty(shape=(8,6,5), dtype=np.uint64)\n",
    "dense2_bias = np.empty(shape=(6,5), dtype=np.uint64)\n",
    "dense3_kernel = np.empty(shape=(6,5,5), dtype=np.uint64)\n",
    "dense3_bias = np.empty(shape=(5,5), dtype=np.uint64)"
   ]
  },
  {
   "cell_type": "code",
   "execution_count": 17,
   "id": "4f2bd7c9",
   "metadata": {},
   "outputs": [
    {
     "name": "stdout",
     "output_type": "stream",
     "text": [
      "Weights processing...\n",
      "Done.\n"
     ]
    }
   ],
   "source": [
    "# WEIGHTS\n",
    "print(\"Weights processing...\")\n",
    "precision = 10\n",
    "for i in range(8):\n",
    "\tfor j in range(8):\n",
    "\t\tvalue = round(dense1_kernel_[i, j].item()*precision)\n",
    "\t\tfor t in range(5):\n",
    "\t\t\tdense1_kernel[i, j, t] = value % t_list[t]\n",
    "\n",
    "for i in range(8):\n",
    "\tfor j in range(6):\n",
    "\t\tvalue = round(dense2_kernel_[i, j].item()*precision)\n",
    "\t\tfor t in range(5):\n",
    "\t\t\tdense2_kernel[i, j, t] = value % t_list[t]\n",
    "\n",
    "for i in range(6):\n",
    "\tfor j in range(5):\n",
    "\t\tvalue = round(dense3_kernel_[i, j].item()*precision)\n",
    "\t\tfor t in range(5):\n",
    "\t\t\tdense3_kernel[i, j, t] = value % t_list[t]\n",
    "\n",
    "for i in range(8):\n",
    "\tvalue = round(dense1_bias_[i].item()*(precision**2))\n",
    "\tfor t in range(5):\n",
    "\t\tdense1_bias[i, t] = value % t_list[t]\n",
    "\n",
    "for i in range(6):\n",
    "\tvalue = round(dense2_bias_[i].item()*(precision**5))\n",
    "\tfor t in range(5):\n",
    "\t\tdense2_bias[i, t] = value % t_list[t]\n",
    "\n",
    "for i in range(5):\n",
    "\tvalue = round(dense3_bias_[i].item()*(precision**11))\n",
    "\tfor t in range(5):\n",
    "\t\tdense3_bias[i, t] = value % t_list[t]\n",
    "\n",
    "print(\"Done.\")"
   ]
  },
  {
   "cell_type": "code",
   "execution_count": 18,
   "id": "e61106e4",
   "metadata": {},
   "outputs": [
    {
     "name": "stdout",
     "output_type": "stream",
     "text": [
      "Input processing...\n"
     ]
    }
   ],
   "source": [
    "# INPUT\n",
    "print(\"Input processing...\")\n",
    "for i in range(input_size):\n",
    "\tfor j in range(encoded_input_.shape[1]):\n",
    "\t\t\tvalue = round(encoded_input_[i,j].item()*precision)\n",
    "\t\t\tfor t in range(5):\n",
    "\t\t\t\tencoded_input[i,j,t] = value % t_list[t]"
   ]
  },
  {
   "cell_type": "code",
   "execution_count": 19,
   "id": "3af623f0",
   "metadata": {},
   "outputs": [
    {
     "name": "stdout",
     "output_type": "stream",
     "text": [
      "Tensors stored\n"
     ]
    }
   ],
   "source": [
    "# Store the encoded tensors\n",
    "np.save(\"./output_data/plain_layer_0\", encoded_input)\n",
    "np.save(\"./nn_data/dense1_kernel\", dense1_kernel)\n",
    "np.save(\"./nn_data/dense1_bias\", dense1_bias)\n",
    "np.save(\"./nn_data/dense2_kernel\", dense2_kernel)\n",
    "np.save(\"./nn_data/dense2_bias\", dense2_bias)\n",
    "np.save(\"./nn_data/dense3_kernel\", dense3_kernel)\n",
    "np.save(\"./nn_data/dense3_bias\", dense3_bias)\n",
    "\n",
    "print(\"Tensors stored\")"
   ]
  },
  {
   "cell_type": "markdown",
   "id": "1e141017",
   "metadata": {},
   "source": [
    "# INFERE_PLAIN"
   ]
  },
  {
   "cell_type": "code",
   "execution_count": 20,
   "id": "eca5ac81",
   "metadata": {},
   "outputs": [],
   "source": [
    "import numpy as np\n",
    "from wrapper import t_list\n",
    "\n",
    "t_size = len(t_list)"
   ]
  },
  {
   "cell_type": "code",
   "execution_count": 21,
   "id": "13f1a986",
   "metadata": {},
   "outputs": [],
   "source": [
    "# WEIGHTS\n",
    "dense1_kernel = np.load(\"./nn_data/dense1_kernel.npy\")\n",
    "dense1_bias = np.load(\"./nn_data/dense1_bias.npy\")\n",
    "dense2_kernel = np.load(\"./nn_data/dense2_kernel.npy\")\n",
    "dense2_bias = np.load(\"./nn_data/dense2_bias.npy\")\n",
    "dense3_kernel = np.load(\"./nn_data/dense3_kernel.npy\")\n",
    "dense3_bias = np.load(\"./nn_data/dense3_bias.npy\")"
   ]
  },
  {
   "cell_type": "code",
   "execution_count": 22,
   "id": "3b0907cd",
   "metadata": {},
   "outputs": [],
   "source": [
    "plain_input = np.load(\"./output_data/plain_layer_0.npy\")\n",
    "examples_count = plain_input.shape[0]\n",
    "plain_output = np.empty((examples_count,8,5), dtype=np.uint64)"
   ]
  },
  {
   "cell_type": "code",
   "execution_count": 23,
   "id": "0d067ae7",
   "metadata": {},
   "outputs": [
    {
     "name": "stdout",
     "output_type": "stream",
     "text": [
      "Computing layer 1/5...\n"
     ]
    }
   ],
   "source": [
    "# LAYER 1: dense1\n",
    "print(\"Computing layer 1/5...\")\n",
    "temp = np.empty((examples_count,8,t_size), dtype=np.uint64)\n",
    "for t_index in range(t_size):\n",
    "\ttemp[...,t_index] = (plain_input[...,t_index].dot(dense1_kernel[...,t_index])) % t_list[t_index]\n",
    "\ttemp[...,t_index] = (temp[...,t_index] + dense1_bias[...,t_index]) % t_list[t_index]\n",
    "plain_output = temp\n",
    "temp = None\n",
    "np.save(\"./output_data/plain_layer_1\", plain_output)"
   ]
  },
  {
   "cell_type": "code",
   "execution_count": 24,
   "id": "ce099267",
   "metadata": {},
   "outputs": [
    {
     "name": "stdout",
     "output_type": "stream",
     "text": [
      "Computing layer 2/5...\n"
     ]
    }
   ],
   "source": [
    "# LAYER 2: square activation function\n",
    "print(\"Computing layer 2/5...\")\n",
    "plain_output = plain_output*plain_output\n",
    "for t_index in range(t_size):\n",
    "\tplain_output[...,t_index] = plain_output[...,t_index] % t_list[t_index]\n",
    "np.save(\"./output_data/plain_layer_2\", plain_output)"
   ]
  },
  {
   "cell_type": "code",
   "execution_count": 25,
   "id": "89f83448",
   "metadata": {},
   "outputs": [
    {
     "name": "stdout",
     "output_type": "stream",
     "text": [
      "Computing layer 3/5...\n"
     ]
    }
   ],
   "source": [
    "# LAYER 3: dense2\n",
    "print(\"Computing layer 3/5...\")\n",
    "temp = np.empty((examples_count,6,t_size), dtype=np.uint64)\n",
    "for t_index in range(t_size):\n",
    "\ttemp[...,t_index] = (plain_output[...,t_index].dot(dense2_kernel[...,t_index])) % t_list[t_index]\n",
    "\ttemp[...,t_index] = (temp[...,t_index] + dense2_bias[...,t_index]) % t_list[t_index]\n",
    "plain_output = temp\n",
    "temp = None\n",
    "np.save(\"./output_data/plain_layer_3\", plain_output)"
   ]
  },
  {
   "cell_type": "code",
   "execution_count": 26,
   "id": "e81d673d",
   "metadata": {},
   "outputs": [
    {
     "name": "stdout",
     "output_type": "stream",
     "text": [
      "Computing layer 4/5...\n"
     ]
    }
   ],
   "source": [
    "# LAYER 4: square activation function\n",
    "print(\"Computing layer 4/5...\")\n",
    "plain_output = plain_output*plain_output\n",
    "for t_index in range(t_size):\n",
    "\tplain_output[...,t_index] = plain_output[...,t_index] % t_list[t_index]\n",
    "np.save(\"./output_data/plain_layer_4\", plain_output)"
   ]
  },
  {
   "cell_type": "code",
   "execution_count": 27,
   "id": "7ff4ea97",
   "metadata": {},
   "outputs": [
    {
     "name": "stdout",
     "output_type": "stream",
     "text": [
      "Computing layer 5/5...\n"
     ]
    }
   ],
   "source": [
    "# LAYER 5: dense3\n",
    "print(\"Computing layer 5/5...\")\n",
    "temp = np.empty((examples_count,5,t_size), dtype=np.uint64)\n",
    "for t_index in range(t_size):\n",
    "\ttemp[...,t_index] = (plain_output[...,t_index].dot(dense3_kernel[...,t_index])) % t_list[t_index]\n",
    "\ttemp[...,t_index] = (temp[...,t_index] + dense3_bias[...,t_index]) % t_list[t_index]\n",
    "plain_output = temp\n",
    "temp = None\n",
    "np.save(\"./output_data/plain_layer_5\", plain_output)"
   ]
  },
  {
   "cell_type": "markdown",
   "id": "a4920e0e",
   "metadata": {},
   "source": [
    "# INFERE_ENC"
   ]
  },
  {
   "cell_type": "code",
   "execution_count": 28,
   "id": "18f10be3",
   "metadata": {},
   "outputs": [],
   "source": [
    "import numpy as np\n",
    "from wrapper import SEAL"
   ]
  },
  {
   "cell_type": "code",
   "execution_count": 29,
   "id": "3dbf1365",
   "metadata": {},
   "outputs": [],
   "source": [
    "SEALobj = SEAL()\n",
    "q_list = SEALobj.q_list\n",
    "k_list = SEALobj.k_list\n",
    "n_parm = SEALobj.n_parm\n",
    "enc_poly_size = SEALobj.enc_poly_size\n",
    "q_size = len(q_list)\n",
    "t_size = len(SEALobj.t_list)"
   ]
  },
  {
   "cell_type": "code",
   "execution_count": 30,
   "id": "547de763",
   "metadata": {},
   "outputs": [],
   "source": [
    "def to_object_dtype(tensoreuint):\n",
    "\tshape = tensoreuint.shape\n",
    "\ttensoreuint.shape = (tensoreuint.size,)\n",
    "\tnew = np.empty((tensoreuint.size,), dtype=object)\n",
    "\tfor i in range(tensoreuint.size):\n",
    "\t\tnew[i] = int(tensoreuint[i].item())\n",
    "\tnew.shape = shape\n",
    "\treturn new"
   ]
  },
  {
   "cell_type": "code",
   "execution_count": 31,
   "id": "7ac3d0d2",
   "metadata": {},
   "outputs": [],
   "source": [
    "# WEIGHTS\n",
    "dense1_kernel = np.load(\"./nn_data/dense1_kernel.npy\")\n",
    "dense1_bias = np.load(\"./nn_data/dense1_bias.npy\")\n",
    "dense2_kernel = np.load(\"./nn_data/dense2_kernel.npy\")\n",
    "dense2_bias = np.load(\"./nn_data/dense2_bias.npy\")\n",
    "dense3_kernel = np.load(\"./nn_data/dense3_kernel.npy\")\n",
    "dense3_bias = np.load(\"./nn_data/dense3_bias.npy\")\n"
   ]
  },
  {
   "cell_type": "code",
   "execution_count": 32,
   "id": "37e7c575",
   "metadata": {},
   "outputs": [
    {
     "name": "stdout",
     "output_type": "stream",
     "text": [
      "Encrypting the input...\n"
     ]
    }
   ],
   "source": [
    "# INPUT AND OUTPUT DATA\n",
    "print(\"Encrypting the input...\")\n",
    "encrypted_input = np.load(\"./output_data/plain_layer_0.npy\") # not yet encrypted\n",
    "examples_count = encrypted_input.shape[0]\n",
    "encrypted_input = SEALobj.encrypt_tensor(encrypted_input) # now it is\n",
    "np.save(\"./output_data/enc_layer_0\", encrypted_input)\n",
    "poly_groups_count = encrypted_input.shape[0]//enc_poly_size\n",
    "encrypted_output = np.empty((encrypted_input.shape[0],8,t_size), dtype=np.uint64)\n",
    "\n"
   ]
  },
  {
   "cell_type": "code",
   "execution_count": 33,
   "id": "12fc6b40",
   "metadata": {},
   "outputs": [
    {
     "name": "stdout",
     "output_type": "stream",
     "text": [
      "Computing layer 1/5...\n"
     ]
    }
   ],
   "source": [
    "# LAYER 1: fully connected layer\n",
    "print(\"Computing layer 1/5...\")\n",
    "encrypted_output = to_object_dtype(encrypted_input)\n",
    "dense1_kernel = to_object_dtype(dense1_kernel)\n",
    "## kernel\n",
    "temp = np.empty((encrypted_output.shape[0],8,t_size), dtype=object)\n",
    "for t_index in range(t_size):\n",
    "\ttemp[...,t_index] = encrypted_output[...,t_index].dot(dense1_kernel[...,t_index])\n",
    "encrypted_output = temp\n",
    "temp = None\n",
    "## % q\n",
    "for axis1 in range(encrypted_output.shape[1]):\n",
    "\tfor axis2 in range(encrypted_output.shape[2]):\n",
    "\t\tfor poly_group_index in range(poly_groups_count):\n",
    "\t\t\tfor size_index in range(2):\n",
    "\t\t\t\tfor q_index in range(q_size):\n",
    "\t\t\t\t\tfor n_index in range(n_parm+1):\n",
    "\t\t\t\t\t\taxis0 = poly_group_index*enc_poly_size + size_index*q_size*(n_parm+1) + q_index*(n_parm+1) + n_index\n",
    "\t\t\t\t\t\ttemp = encrypted_output[axis0,axis1,axis2]\n",
    "\t\t\t\t\t\ttemp = temp % q_list[q_index]\n",
    "\t\t\t\t\t\tencrypted_output[axis0,axis1,axis2] = temp\n",
    "## bias\n",
    "for axis1 in range(encrypted_output.shape[1]):\n",
    "\tfor axis2 in range(encrypted_output.shape[2]):\n",
    "\t\tfor poly_group_index in range(poly_groups_count):\n",
    "\t\t\tfor q_index in range(q_size):\n",
    "\t\t\t\taxis0 = poly_group_index*enc_poly_size + ((n_parm+1)*q_index)\n",
    "\t\t\t\ttemp = encrypted_output[axis0,axis1,axis2]\n",
    "\t\t\t\ttemp = temp + dense1_bias[axis1,axis2].item()*k_list[axis2][q_index]\n",
    "\t\t\t\ttemp = temp % q_list[q_index]\n",
    "\t\t\t\tencrypted_output[axis0,axis1,axis2] = temp\n",
    "np.save(\"./output_data/enc_layer_1\", encrypted_output) # !!!! encrypted_output has dtype=object. To load it use the function at the end of the file !!!!\n"
   ]
  },
  {
   "cell_type": "code",
   "execution_count": 34,
   "id": "ff83af38",
   "metadata": {},
   "outputs": [
    {
     "name": "stdout",
     "output_type": "stream",
     "text": [
      "Computing layer 2/5...\n"
     ]
    }
   ],
   "source": [
    "\n",
    "# LAYER 2: square activation function\n",
    "print(\"Computing layer 2/5...\")\n",
    "encrypted_output = SEALobj.square_tensor(encrypted_output)\n",
    "np.save(\"./output_data/enc_layer_2\", encrypted_output)\n",
    "\n"
   ]
  },
  {
   "cell_type": "code",
   "execution_count": 35,
   "id": "b006d57d",
   "metadata": {},
   "outputs": [
    {
     "name": "stdout",
     "output_type": "stream",
     "text": [
      "Computing layer 3/5...\n"
     ]
    }
   ],
   "source": [
    "# LAYER 3: fully connected layer\n",
    "print(\"Computing layer 3/5...\")\n",
    "encrypted_output = to_object_dtype(encrypted_output)\n",
    "dense2_kernel = to_object_dtype(dense2_kernel)\n",
    "## kernel\n",
    "temp = np.empty((encrypted_output.shape[0],6,t_size), dtype=object)\n",
    "for t_index in range(t_size):\n",
    "\ttemp[...,t_index] = encrypted_output[...,t_index].dot(dense2_kernel[...,t_index])\n",
    "encrypted_output = temp\n",
    "temp = None\n",
    "## % q\n",
    "for axis1 in range(encrypted_output.shape[1]):\n",
    "\tfor axis2 in range(encrypted_output.shape[2]):\n",
    "\t\tfor poly_group_index in range(poly_groups_count):\n",
    "\t\t\tfor size_index in range(2):\n",
    "\t\t\t\tfor q_index in range(q_size):\n",
    "\t\t\t\t\tfor n_index in range(n_parm+1):\n",
    "\t\t\t\t\t\taxis0 = poly_group_index*enc_poly_size + size_index*q_size*(n_parm+1) + q_index*(n_parm+1) + n_index\n",
    "\t\t\t\t\t\ttemp = encrypted_output[axis0,axis1,axis2]\n",
    "\t\t\t\t\t\ttemp = temp % q_list[q_index]\n",
    "\t\t\t\t\t\tencrypted_output[axis0,axis1,axis2] = temp\n",
    "## bias\n",
    "for axis1 in range(encrypted_output.shape[1]):\n",
    "\tfor axis2 in range(encrypted_output.shape[2]):\n",
    "\t\tfor poly_group_index in range(poly_groups_count):\n",
    "\t\t\tfor q_index in range(q_size):\n",
    "\t\t\t\taxis0 = poly_group_index*enc_poly_size + ((n_parm+1)*q_index)\n",
    "\t\t\t\ttemp = encrypted_output[axis0,axis1,axis2]\n",
    "\t\t\t\ttemp = temp + dense2_bias[axis1,axis2].item()*k_list[axis2][q_index]\n",
    "\t\t\t\ttemp = temp % q_list[q_index]\n",
    "\t\t\t\tencrypted_output[axis0,axis1,axis2] = temp\n",
    "np.save(\"./output_data/enc_layer_3\", encrypted_output) # !!!! encrypted_output has dtype=object. To load it use the function at the end of the file !!!!\n"
   ]
  },
  {
   "cell_type": "code",
   "execution_count": 36,
   "id": "d3d141da",
   "metadata": {},
   "outputs": [
    {
     "name": "stdout",
     "output_type": "stream",
     "text": [
      "Computing layer 4/5...\n"
     ]
    }
   ],
   "source": [
    "# LAYER 4: square activation function\n",
    "print(\"Computing layer 4/5...\")\n",
    "encrypted_output = SEALobj.square_tensor(encrypted_output)\n",
    "np.save(\"./output_data/enc_layer_4\", encrypted_output)\n"
   ]
  },
  {
   "cell_type": "code",
   "execution_count": 37,
   "id": "9d0f6c07",
   "metadata": {},
   "outputs": [
    {
     "name": "stdout",
     "output_type": "stream",
     "text": [
      "Computing layer 5/5...\n"
     ]
    }
   ],
   "source": [
    "# LAYER 5: fully connected layer\n",
    "print(\"Computing layer 5/5...\")\n",
    "encrypted_output = to_object_dtype(encrypted_output)\n",
    "dense3_kernel = to_object_dtype(dense3_kernel)\n",
    "## kernel\n",
    "temp = np.empty((encrypted_output.shape[0],5,t_size), dtype=object)\n",
    "for t_index in range(t_size):\n",
    "\ttemp[...,t_index] = encrypted_output[...,t_index].dot(dense3_kernel[...,t_index])\n",
    "encrypted_output = temp\n",
    "temp = None\n",
    "## % q\n",
    "for axis1 in range(encrypted_output.shape[1]):\n",
    "\tfor axis2 in range(encrypted_output.shape[2]):\n",
    "\t\tfor poly_group_index in range(poly_groups_count):\n",
    "\t\t\tfor size_index in range(2):\n",
    "\t\t\t\tfor q_index in range(q_size):\n",
    "\t\t\t\t\tfor n_index in range(n_parm+1):\n",
    "\t\t\t\t\t\taxis0 = poly_group_index*enc_poly_size + size_index*q_size*(n_parm+1) + q_index*(n_parm+1) + n_index\n",
    "\t\t\t\t\t\ttemp = encrypted_output[axis0,axis1,axis2]\n",
    "\t\t\t\t\t\ttemp = temp % q_list[q_index]\n",
    "\t\t\t\t\t\tencrypted_output[axis0,axis1,axis2] = temp\n",
    "## bias\n",
    "for axis1 in range(encrypted_output.shape[1]):\n",
    "\tfor axis2 in range(encrypted_output.shape[2]):\n",
    "\t\tfor poly_group_index in range(poly_groups_count):\n",
    "\t\t\tfor q_index in range(q_size):\n",
    "\t\t\t\taxis0 = poly_group_index*enc_poly_size + ((n_parm+1)*q_index)\n",
    "\t\t\t\ttemp = encrypted_output[axis0,axis1,axis2]\n",
    "\t\t\t\ttemp = temp + dense3_bias[axis1,axis2].item()*k_list[axis2][q_index]\n",
    "\t\t\t\ttemp = temp % q_list[q_index]\n",
    "\t\t\t\tencrypted_output[axis0,axis1,axis2] = temp\n",
    "np.save(\"./output_data/enc_layer_5\", encrypted_output) # !!!! encrypted_output has dtype=object. To load it use the function at the end of the file !!!!\n"
   ]
  },
  {
   "cell_type": "code",
   "execution_count": 38,
   "id": "63f1c714",
   "metadata": {},
   "outputs": [
    {
     "name": "stdout",
     "output_type": "stream",
     "text": [
      "Decrypting the output...\n"
     ]
    }
   ],
   "source": [
    "# DECRYPT\n",
    "print(\"Decrypting the output...\")\n",
    "decrypted_output = SEALobj.decrypt_tensor(encrypted_output, examples_count)\n",
    "encrypted_output = None\n",
    "np.save(\"./output_data/decrypted_layer_5\", decrypted_output)\n",
    "\n"
   ]
  },
  {
   "cell_type": "markdown",
   "id": "0e0b8df1",
   "metadata": {},
   "source": [
    "# POST_DECODE"
   ]
  },
  {
   "cell_type": "code",
   "execution_count": 39,
   "id": "977fe907",
   "metadata": {},
   "outputs": [],
   "source": [
    "import os.path"
   ]
  },
  {
   "cell_type": "code",
   "execution_count": 40,
   "id": "7ac97f4f",
   "metadata": {},
   "outputs": [],
   "source": [
    "plain_output_exists = os.path.isfile(\"./output_data/plain_layer_5.npy\")\n",
    "decrypted_output_exists = os.path.isfile(\"./output_data/decrypted_layer_5.npy\")"
   ]
  },
  {
   "cell_type": "code",
   "execution_count": 41,
   "id": "00128d65",
   "metadata": {},
   "outputs": [],
   "source": [
    "def extended_Euclidean_algorithm(a, b):\n",
    "\tb0 = b\n",
    "\tx0, x1 = 0, 1\n",
    "\tif b == 1: return 1\n",
    "\twhile a > 1:\n",
    "\t\tq = a // b\n",
    "\t\ta, b = b, a%b\n",
    "\t\tx0, x1 = x1 - q * x0, x0\n",
    "\tif x1 < 0: x1 += b0\n",
    "\treturn x1\n"
   ]
  },
  {
   "cell_type": "code",
   "execution_count": 42,
   "id": "5cdafa99",
   "metadata": {},
   "outputs": [],
   "source": [
    "def chinese_remainder_theorem(array):\n",
    "\tresult = 0\n",
    "\tfor t_index in range(len(array)):\n",
    "\t\tresult += array[t_index].item() * bezout_coefficients[t_index] * t_product_over_t[t_index]\n",
    "\treturn result % t_product"
   ]
  },
  {
   "cell_type": "code",
   "execution_count": 43,
   "id": "01b2969a",
   "metadata": {},
   "outputs": [],
   "source": [
    "def crt_inverse(tensor):\n",
    "\texamples_count = tensor.shape[0]\n",
    "\ttemp = np.empty(tensor.shape[:-1], dtype=object)\n",
    "\tfor i in range(examples_count):\n",
    "\t\tfor j in range(5):\n",
    "\t\t\ttemp[i, j] = chinese_remainder_theorem(plain_output[i, j, :])\n",
    "\t\t\tif (temp[i, j]>negative_threshold):\n",
    "\t\t\t\ttemp[i, j] = temp[i, j] - t_product\n",
    "\treturn temp\n"
   ]
  },
  {
   "cell_type": "code",
   "execution_count": 44,
   "id": "280bd667",
   "metadata": {},
   "outputs": [],
   "source": [
    "# CRT PARAMETERS\n",
    "# compute the producte of all t, and the threshold for negative numbers:\n",
    "#   t_product\n",
    "#   negative_threshold\n",
    "t_product = 1\n",
    "for t_index in range(len(t_list)):\n",
    "\tt_product = t_product * t_list[t_index]\n",
    "negative_threshold = t_product // 2\n",
    "# compute t_product // t and the Bezout coefficients, for all t: \n",
    "#   t_product_over_t\n",
    "#   bezout_coefficients\n",
    "t_product_over_t = []\n",
    "bezout_coefficients = []\n",
    "for t_index in range(len(t_list)):\n",
    "\tt_product_over_t.append(t_product // t_list[t_index])\n",
    "\ttemp = extended_Euclidean_algorithm(t_product_over_t[t_index], t_list[t_index])\n",
    "\tbezout_coefficients.append(temp)\n",
    "\n"
   ]
  },
  {
   "cell_type": "code",
   "execution_count": 45,
   "id": "c5242ee2",
   "metadata": {},
   "outputs": [
    {
     "name": "stdout",
     "output_type": "stream",
     "text": [
      "---- Plain and decrypted outputs coincide ----\n"
     ]
    }
   ],
   "source": [
    "# COMPUTE PREDICTIONS\n",
    "string = \"\"\n",
    "if (plain_output_exists):\n",
    "\tplain_output = np.load(\"./output_data/plain_layer_5.npy\")\n",
    "if (decrypted_output_exists):\n",
    "\tdecrypted_output = np.load(\"./output_data/decrypted_layer_5.npy\")\n",
    "\tif (plain_output_exists):\n",
    "\t\tif (np.array_equal(plain_output, decrypted_output)):\n",
    "\t\t\tprint(\"---- Plain and decrypted outputs coincide ----\")\n",
    "\t\t\tcn_predictions = crt_inverse(decrypted_output)\n",
    "\t\t\tstring = \"Accuracy with SEAL encryption:\"\n",
    "\t\telse:\n",
    "\t\t\tprint(\"---- Plain and decrypted outputs are different. Computing accuracy with plain output ----\")\n",
    "\t\t\tcn_predictions = crt_inverse(plain_output)\n",
    "\t\t\tstring = \"Accuracy with integer numbers (no encryption):\"\n",
    "\telse:\n",
    "\t\tprint(\"---- plain_layer_5.npy file is missing. Can't compare decrypted and plain outputs ----\")\n",
    "\t\tcn_predictions = crt_inverse(decrypted_output)\n",
    "\t\tstring = \"Accuracy with SEAL encryption:\"\n",
    "else:\n",
    "\tprint(\"---- decrypted_layer_5.npy file is missing. Can't compare decrypted and plain outputs ----\")\n",
    "\tprint(\"Computing accuracy with plain output...\")\n",
    "\tcn_predictions = crt_inverse(plain_output)\n",
    "\tstring = \"Accuracy with integer numbers (no encryption):\"\n",
    "cn_predictions = np.argmax(cn_predictions, axis=1)\n"
   ]
  },
  {
   "cell_type": "code",
   "execution_count": 46,
   "id": "b063f76b",
   "metadata": {},
   "outputs": [
    {
     "name": "stdout",
     "output_type": "stream",
     "text": [
      "INFO:tensorflow:Restoring parameters from ./nn_data/net-1000\n",
      "Accuracy with tensorflow and no CRT: 1.0\n",
      "Accuracy with SEAL encryption: 1.0\n",
      "Number of swapped predictions:  0\n"
     ]
    }
   ],
   "source": [
    "saver = tf.train.Saver()\n",
    "\n",
    "# PRINT ACCURACIES\n",
    "with tf.Session() as sess:\n",
    "\tsaver.restore(sess, './nn_data/net-1000')\n",
    "\n",
    "\ttf_guessed_predictions = tf.equal(tf.argmax(model, 1), tf.argmax(y, 1))\n",
    "\ttf_accuracy = tf.reduce_mean(tf.cast(tf_guessed_predictions, \"float\"))\n",
    "\tcn_guessed_predictions = tf.equal(cn_predictions, tf.argmax(y, 1))\n",
    "\tcn_accuracy = tf.reduce_mean(tf.cast(cn_guessed_predictions, \"float\"))\n",
    "\n",
    "\n",
    "\ttf_guessed_predictions_ = tf_guessed_predictions.eval({X: X_test, y: y_test})\n",
    "\tcn_guessed_predictions_ = cn_guessed_predictions.eval({y: y_test})\n",
    "\tswapped_predictions_count = 0\n",
    "\tfor i in range(tf_guessed_predictions_.size):\n",
    "\t\tif (tf_guessed_predictions_[i]!=cn_guessed_predictions_[i]):\n",
    "\t\t\tswapped_predictions_count = swapped_predictions_count + 1\n",
    "\n",
    "\n",
    "\tprint(\"Accuracy with tensorflow and no CRT:\", tf_accuracy.eval({X: X_test, y: y_test}))\n",
    "\tprint(string, cn_accuracy.eval({X: X_test, y: y_test}))\n",
    "\tprint(\"Number of swapped predictions: \", swapped_predictions_count)"
   ]
  },
  {
   "cell_type": "code",
   "execution_count": null,
   "id": "676fef83",
   "metadata": {},
   "outputs": [],
   "source": []
  }
 ],
 "metadata": {
  "kernelspec": {
   "display_name": "Python 3 (ipykernel)",
   "language": "python",
   "name": "python3"
  },
  "language_info": {
   "codemirror_mode": {
    "name": "ipython",
    "version": 3
   },
   "file_extension": ".py",
   "mimetype": "text/x-python",
   "name": "python",
   "nbconvert_exporter": "python",
   "pygments_lexer": "ipython3",
   "version": "3.8.10"
  }
 },
 "nbformat": 4,
 "nbformat_minor": 5
}
